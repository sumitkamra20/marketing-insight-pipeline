{
  "cells": [
    {
      "cell_type": "markdown",
      "metadata": {},
      "source": [
        "# Customer Segmentation ML Pipeline\n",
        "\n",
        "**Author:** Marketing Insight Pipeline Project  \n",
        "**Version:** 1.0  \n",
        "**Last Updated:** December 2024\n",
        "\n",
        "This notebook implements an end-to-end customer segmentation pipeline using RFM (Recency, Frequency, Monetary) features and K-means clustering on Snowflake sales data. The output is a set of customer segments for targeted marketing.\n",
        "\n"
      ]
    },
    {
      "cell_type": "code",
      "execution_count": 27,
      "metadata": {},
      "outputs": [
        {
          "name": "stdout",
          "output_type": "stream",
          "text": [
            "{'account': 'BRVIXQZ-AQ58231', 'user': 'dbt_marketing', 'password': 'dbtPassword123', 'warehouse': 'MARKETING_WH', 'database': 'MARKETING_INSIGHTS_DB', 'schema': 'DBT_SKAMRA_ANALYTICS'}\n"
          ]
        }
      ],
      "source": [
        "# Load environment variables\n",
        "import os\n",
        "from dotenv import load_dotenv\n",
        "\n",
        "load_dotenv('../.env')\n",
        "\n",
        "SNOWFLAKE_CONFIG = {\n",
        "    'account':   os.getenv('SNOWFLAKE_ACCOUNT'),\n",
        "    'user':      os.getenv('DBT_USER'),\n",
        "    'password':  os.getenv('DBT_PASSWORD'),\n",
        "    'warehouse': os.getenv('SNOWFLAKE_WAREHOUSE'),\n",
        "    'database':  os.getenv('SNOWFLAKE_DATABASE'),\n",
        "    'schema':    os.getenv('DBT_SCHEMA', 'DBT_SKAMRA_ANALYTICS'),\n",
        "}\n",
        "\n",
        "\n",
        "print(SNOWFLAKE_CONFIG)"
      ]
    },
    {
      "cell_type": "code",
      "execution_count": 28,
      "metadata": {},
      "outputs": [],
      "source": [
        "# Core imports\n",
        "import pandas as pd\n",
        "import numpy as np\n",
        "import joblib\n",
        "import json\n",
        "from datetime import datetime\n",
        "\n",
        "# Snowflake connector\n",
        "import snowflake.connector\n"
      ]
    },
    {
      "cell_type": "code",
      "execution_count": 29,
      "metadata": {},
      "outputs": [
        {
          "name": "stderr",
          "output_type": "stream",
          "text": [
            "/var/folders/cm/qvwnybj51ll82slvk54rryrw0000gn/T/ipykernel_71402/1638337619.py:19: UserWarning: pandas only supports SQLAlchemy connectable (engine/connection) or database string URI or sqlite3 DBAPI2 connection. Other DBAPI2 objects are not tested. Please consider using SQLAlchemy.\n",
            "  df = pd.read_sql(query, ctx)\n"
          ]
        },
        {
          "name": "stdout",
          "output_type": "stream",
          "text": [
            "Extracted 52924 rows from Snowflake.\n"
          ]
        },
        {
          "data": {
            "text/html": [
              "<div>\n",
              "<style scoped>\n",
              "    .dataframe tbody tr th:only-of-type {\n",
              "        vertical-align: middle;\n",
              "    }\n",
              "\n",
              "    .dataframe tbody tr th {\n",
              "        vertical-align: top;\n",
              "    }\n",
              "\n",
              "    .dataframe thead th {\n",
              "        text-align: right;\n",
              "    }\n",
              "</style>\n",
              "<table border=\"1\" class=\"dataframe\">\n",
              "  <thead>\n",
              "    <tr style=\"text-align: right;\">\n",
              "      <th></th>\n",
              "      <th>customer_id</th>\n",
              "      <th>transaction_date</th>\n",
              "      <th>sales_amount</th>\n",
              "    </tr>\n",
              "  </thead>\n",
              "  <tbody>\n",
              "    <tr>\n",
              "      <th>0</th>\n",
              "      <td>17850</td>\n",
              "      <td>2019-01-01</td>\n",
              "      <td>122.968</td>\n",
              "    </tr>\n",
              "    <tr>\n",
              "      <th>1</th>\n",
              "      <td>17850</td>\n",
              "      <td>2019-01-01</td>\n",
              "      <td>122.968</td>\n",
              "    </tr>\n",
              "    <tr>\n",
              "      <th>2</th>\n",
              "      <td>17850</td>\n",
              "      <td>2019-01-01</td>\n",
              "      <td>1.640</td>\n",
              "    </tr>\n",
              "    <tr>\n",
              "      <th>3</th>\n",
              "      <td>17850</td>\n",
              "      <td>2019-01-01</td>\n",
              "      <td>87.650</td>\n",
              "    </tr>\n",
              "    <tr>\n",
              "      <th>4</th>\n",
              "      <td>17850</td>\n",
              "      <td>2019-01-01</td>\n",
              "      <td>13.200</td>\n",
              "    </tr>\n",
              "  </tbody>\n",
              "</table>\n",
              "</div>"
            ],
            "text/plain": [
              "   customer_id transaction_date  sales_amount\n",
              "0        17850       2019-01-01       122.968\n",
              "1        17850       2019-01-01       122.968\n",
              "2        17850       2019-01-01         1.640\n",
              "3        17850       2019-01-01        87.650\n",
              "4        17850       2019-01-01        13.200"
            ]
          },
          "execution_count": 29,
          "metadata": {},
          "output_type": "execute_result"
        }
      ],
      "source": [
        "# 2. Connect to Snowflake and extract sales data\n",
        "ctx = snowflake.connector.connect(\n",
        "    account   = SNOWFLAKE_CONFIG['account'],\n",
        "    user      = SNOWFLAKE_CONFIG['user'],\n",
        "    password  = SNOWFLAKE_CONFIG['password'],\n",
        "    warehouse = SNOWFLAKE_CONFIG['warehouse'],\n",
        "    database  = SNOWFLAKE_CONFIG['database'],\n",
        "    schema    = SNOWFLAKE_CONFIG['schema'],\n",
        ")\n",
        "cs = ctx.cursor()\n",
        "query = \"\"\"\n",
        "SELECT\n",
        "  CUSTOMER_ID,\n",
        "  TRANSACTION_DATE,\n",
        "  NET_SALES_AMOUNT AS sales_amount\n",
        "FROM fct_sales\n",
        "WHERE TRANSACTION_DATE IS NOT NULL\n",
        "\"\"\"\n",
        "df = pd.read_sql(query, ctx)\n",
        "df.columns = df.columns.str.lower()\n",
        "\n",
        "cs.close()\n",
        "ctx.close()\n",
        "print(f\"Extracted {len(df)} rows from Snowflake.\")\n",
        "df.head()\n"
      ]
    },
    {
      "cell_type": "markdown",
      "metadata": {},
      "source": [
        "## 3. Exploratory Data Analysis\n"
      ]
    },
    {
      "cell_type": "code",
      "execution_count": 30,
      "metadata": {},
      "outputs": [
        {
          "name": "stdout",
          "output_type": "stream",
          "text": [
            "       customer_id               transaction_date  sales_amount\n",
            "count  52924.00000                          52924  52924.000000\n",
            "mean   15346.70981  2019-07-05 19:16:09.450532864     82.388213\n",
            "min    12346.00000            2019-01-01 00:00:00      0.320000\n",
            "25%    13869.00000            2019-04-12 00:00:00     10.872000\n",
            "50%    15311.00000            2019-07-13 00:00:00     28.000000\n",
            "75%    16996.25000            2019-09-27 00:00:00    119.000000\n",
            "max    18283.00000            2019-12-31 00:00:00   8409.912000\n",
            "std     1766.55602                            NaN    152.871083\n",
            "\n",
            "Unique customers: 1468\n"
          ]
        }
      ],
      "source": [
        "# Convert dates and inspect\n",
        "df['transaction_date'] = pd.to_datetime(df['transaction_date'])\n",
        "print(df.describe())\n",
        "print(\"\\nUnique customers:\", df['customer_id'].nunique())\n"
      ]
    },
    {
      "cell_type": "code",
      "execution_count": 31,
      "metadata": {},
      "outputs": [
        {
          "data": {
            "text/plain": [
              "<Axes: >"
            ]
          },
          "execution_count": 31,
          "metadata": {},
          "output_type": "execute_result"
        },
        {
          "data": {
            "image/png": "[encoded data removed]",
            "text/plain": [
              "<Figure size 640x480 with 1 Axes>"
            ]
          },
          "metadata": {},
          "output_type": "display_data"
        }
      ],
      "source": [
        "# Quick histogram of sales amounts\n",
        "df['sales_amount'].hist(bins=200)\n"
      ]
    },
    {
      "cell_type": "markdown",
      "metadata": {},
      "source": [
        "## 4. Feature Engineering (RFM)\n",
        "1. **Recency**: days since last purchase  \n",
        "2. **Frequency**: number of transactions  \n",
        "3. **Monetary**: total spend  \n",
        "4. **Additional**: average order value, discount sensitivity (if available)\n"
      ]
    },
    {
      "cell_type": "code",
      "execution_count": 32,
      "metadata": {},
      "outputs": [
        {
          "name": "stdout",
          "output_type": "stream",
          "text": [
            "   customer_id  recency_days  frequency   monetary  avg_order_value\n",
            "0        12346           108          2     24.792        12.396000\n",
            "1        12347            60         60  13219.940       220.332333\n",
            "2        12348            74         23   1301.030        56.566522\n",
            "3        12350            18         17   1258.592        74.034824\n",
            "4        12356           108         36   1304.638        36.239944\n"
          ]
        }
      ],
      "source": [
        "# Reference date at run time\n",
        "snapshot_date = df['transaction_date'].max() + pd.Timedelta(days=1)\n",
        "\n",
        "# Compute RFM table\n",
        "rfm = df.groupby('customer_id').agg({\n",
        "    'transaction_date': lambda x: (snapshot_date - x.max()).days,\n",
        "    'sales_amount': ['count', 'sum', 'mean']\n",
        "}).reset_index()\n",
        "\n",
        "rfm.columns = ['customer_id', 'recency_days', 'frequency', 'monetary', 'avg_order_value']\n",
        "print(rfm.head())\n"
      ]
    },
    {
      "cell_type": "markdown",
      "metadata": {},
      "source": [
        "## 5. Data Scaling & Normalization\n",
        "K-means is distance-based, so we'll standardize our features.\n"
      ]
    },
    {
      "cell_type": "code",
      "execution_count": 33,
      "metadata": {},
      "outputs": [],
      "source": [
        "from sklearn.preprocessing import StandardScaler\n",
        "\n",
        "features = ['recency_days', 'frequency', 'monetary', 'avg_order_value']\n",
        "scaler = StandardScaler()\n",
        "rfm_scaled = scaler.fit_transform(rfm[features])\n"
      ]
    },
    {
      "cell_type": "markdown",
      "metadata": {},
      "source": [
        "## 6. Choosing K: Elbow Method & Silhouette\n"
      ]
    },
    {
      "cell_type": "code",
      "execution_count": 34,
      "metadata": {},
      "outputs": [
        {
          "data": {
            "image/png": "[encoded data removed]",
            "text/plain": [
              "<Figure size 640x480 with 1 Axes>"
            ]
          },
          "metadata": {},
          "output_type": "display_data"
        },
        {
          "data": {
            "image/png": "[encoded data removed]",
            "text/plain": [
              "<Figure size 640x480 with 1 Axes>"
            ]
          },
          "metadata": {},
          "output_type": "display_data"
        }
      ],
      "source": [
        "from sklearn.cluster import KMeans\n",
        "from sklearn.metrics import silhouette_score\n",
        "\n",
        "inertia = []\n",
        "sil_scores = []\n",
        "K_range = range(2, 11)\n",
        "\n",
        "for k in K_range:\n",
        "    km = KMeans(n_clusters=k, random_state=42)\n",
        "    labels = km.fit_predict(rfm_scaled)\n",
        "    inertia.append(km.inertia_)\n",
        "    sil_scores.append(silhouette_score(rfm_scaled, labels))\n",
        "\n",
        "# Plot Elbow\n",
        "import matplotlib.pyplot as plt\n",
        "\n",
        "plt.figure()\n",
        "plt.plot(K_range, inertia, marker='o')\n",
        "plt.title('Elbow Method for Optimal k')\n",
        "plt.xlabel('k'); plt.ylabel('Inertia')\n",
        "plt.show()\n",
        "\n",
        "# Plot Silhouette\n",
        "plt.figure()\n",
        "plt.plot(K_range, sil_scores, marker='o')\n",
        "plt.title('Silhouette Scores for Different k')\n",
        "plt.xlabel('k'); plt.ylabel('Silhouette Score')\n",
        "plt.show()\n"
      ]
    },
    {
      "cell_type": "markdown",
      "metadata": {},
      "source": [
        "### Selecting the best k\n",
        "*From these plots, choose the best k (e.g. k=5).*\n",
        "\n",
        "Both the Elbow and Silhouette plots point to k = 5 as the sweet-spot:\n",
        "\n",
        "Elbow curve\n",
        "\n",
        "Inertia drops sharply from k=2→3→4→5, then the rate of decline flattens out after k=5.\n",
        "\n",
        "That “knee” around 4–5 means you get most of your within-cluster compactness by five clusters.\n",
        "\n",
        "Silhouette scores\n",
        "\n",
        "Peaks at k=5 (≈ 0.318), indicating the best average separation between clusters.\n",
        "\n",
        "All other k have lower silhouette values, so cluster cohesion + separation is optimal at five.\n",
        "\n",
        "Business interpretability\n",
        "\n",
        "Five segments map neatly onto classic RFM personas (e.g. High-Value, Loyal, At-Risk, Price-Sensitive, New), making rollout and targeting straightforward."
      ]
    },
    {
      "cell_type": "code",
      "execution_count": 35,
      "metadata": {},
      "outputs": [],
      "source": [
        "# 7. Train final K-means\n",
        "best_k = 5\n",
        "kmeans = KMeans(n_clusters=best_k, random_state=42)\n",
        "rfm['segment_id'] = kmeans.fit_predict(rfm_scaled)\n"
      ]
    },
    {
      "cell_type": "code",
      "execution_count": 36,
      "metadata": {},
      "outputs": [
        {
          "name": "stdout",
          "output_type": "stream",
          "text": [
            "Silhouette score: 0.31855749577506326\n"
          ]
        }
      ],
      "source": [
        "# 8. Evaluate clusters\n",
        "print(\"Silhouette score:\", silhouette_score(rfm_scaled, rfm['segment_id']))\n"
      ]
    },
    {
      "cell_type": "markdown",
      "metadata": {},
      "source": [
        "## 9. Profile & Name Segments\n",
        "Compute average RFM per cluster and assign business-centric names.\n"
      ]
    },
    {
      "cell_type": "code",
      "execution_count": 37,
      "metadata": {},
      "outputs": [
        {
          "data": {
            "text/html": [
              "<div>\n",
              "<style scoped>\n",
              "    .dataframe tbody tr th:only-of-type {\n",
              "        vertical-align: middle;\n",
              "    }\n",
              "\n",
              "    .dataframe tbody tr th {\n",
              "        vertical-align: top;\n",
              "    }\n",
              "\n",
              "    .dataframe thead th {\n",
              "        text-align: right;\n",
              "    }\n",
              "</style>\n",
              "<table border=\"1\" class=\"dataframe\">\n",
              "  <thead>\n",
              "    <tr style=\"text-align: right;\">\n",
              "      <th></th>\n",
              "      <th>recency_days</th>\n",
              "      <th>frequency</th>\n",
              "      <th>monetary</th>\n",
              "      <th>avg_order_value</th>\n",
              "      <th>count</th>\n",
              "    </tr>\n",
              "    <tr>\n",
              "      <th>segment_id</th>\n",
              "      <th></th>\n",
              "      <th></th>\n",
              "      <th></th>\n",
              "      <th></th>\n",
              "      <th></th>\n",
              "    </tr>\n",
              "  </thead>\n",
              "  <tbody>\n",
              "    <tr>\n",
              "      <th>3</th>\n",
              "      <td>61.78</td>\n",
              "      <td>465.56</td>\n",
              "      <td>44348.32</td>\n",
              "      <td>95.89</td>\n",
              "      <td>9</td>\n",
              "    </tr>\n",
              "    <tr>\n",
              "      <th>4</th>\n",
              "      <td>78.46</td>\n",
              "      <td>111.12</td>\n",
              "      <td>9200.44</td>\n",
              "      <td>85.95</td>\n",
              "      <td>168</td>\n",
              "    </tr>\n",
              "    <tr>\n",
              "      <th>0</th>\n",
              "      <td>73.26</td>\n",
              "      <td>19.74</td>\n",
              "      <td>3021.31</td>\n",
              "      <td>164.66</td>\n",
              "      <td>207</td>\n",
              "    </tr>\n",
              "    <tr>\n",
              "      <th>1</th>\n",
              "      <td>266.59</td>\n",
              "      <td>22.07</td>\n",
              "      <td>1662.15</td>\n",
              "      <td>71.27</td>\n",
              "      <td>474</td>\n",
              "    </tr>\n",
              "    <tr>\n",
              "      <th>2</th>\n",
              "      <td>95.12</td>\n",
              "      <td>25.44</td>\n",
              "      <td>1643.01</td>\n",
              "      <td>59.44</td>\n",
              "      <td>610</td>\n",
              "    </tr>\n",
              "  </tbody>\n",
              "</table>\n",
              "</div>"
            ],
            "text/plain": [
              "            recency_days  frequency  monetary  avg_order_value  count\n",
              "segment_id                                                           \n",
              "3                  61.78     465.56  44348.32            95.89      9\n",
              "4                  78.46     111.12   9200.44            85.95    168\n",
              "0                  73.26      19.74   3021.31           164.66    207\n",
              "1                 266.59      22.07   1662.15            71.27    474\n",
              "2                  95.12      25.44   1643.01            59.44    610"
            ]
          },
          "execution_count": 37,
          "metadata": {},
          "output_type": "execute_result"
        }
      ],
      "source": [
        "profile = rfm.groupby('segment_id')[features].mean().round(2)\n",
        "profile['count'] = rfm.groupby('segment_id').size()\n",
        "profile = profile.sort_values('monetary', ascending=False)\n",
        "profile\n"
      ]
    },
    {
      "cell_type": "markdown",
      "metadata": {},
      "source": [
        "## Naming the segments based on this logic\n",
        "\n",
        "| segment\\_id | Recency (days) | Frequency | Monetary | Avg. Order | Count | Proposed Name           | Rationale                                                        |\n",
        "| ----------: | -------------: | --------: | -------: | ---------: | ----: | ----------------------- | ---------------------------------------------------------------- |\n",
        "|           3 |           61.8 |     465.6 | 44,348.3 |       95.9 |     9 | **Champions (VIPs)**    | By far the most frequent purchasers and highest spenders.        |\n",
        "|           4 |           78.5 |     111.1 |  9,200.4 |       85.9 |   168 | **Loyal Customers**     | Very active, high spend—reliably engaged but a bit less than #3. |\n",
        "|           0 |           73.3 |      19.7 |  3,021.3 |      164.7 |   207 | **Big Spenders**        | Infrequent visits but very high average order value.             |\n",
        "|           1 |          266.6 |      22.1 |  1,662.2 |       71.3 |   474 | **At-Risk (Lapsing)**   | Long time since last buy with low overall value—watch for churn. |\n",
        "|           2 |           95.1 |      25.4 |  1,643.0 |       59.4 |   610 | **Occasional Shoppers** | Moderate frequency & spend; less predictable purchase cadence.   |\n"
      ]
    },
    {
      "cell_type": "markdown",
      "metadata": {},
      "source": []
    },
    {
      "cell_type": "code",
      "execution_count": 38,
      "metadata": {},
      "outputs": [],
      "source": [
        "# 10. Profile & Name Segments (revised)\n",
        "mapping = {\n",
        "    3: 'Champions (VIPs)',\n",
        "    4: 'Loyal Customers',\n",
        "    0: 'Big Spenders',\n",
        "    2: 'Occasional Shoppers',\n",
        "    1: 'At-Risk (Lapsing)'\n",
        "}\n",
        "rfm['segment_name'] = rfm['segment_id'].map(mapping)\n"
      ]
    },
    {
      "cell_type": "markdown",
      "metadata": {},
      "source": [
        "## 10. Save Artifacts & Results\n"
      ]
    },
    {
      "cell_type": "code",
      "execution_count": 39,
      "metadata": {},
      "outputs": [
        {
          "name": "stdout",
          "output_type": "stream",
          "text": [
            "Artifacts saved under `models/`.\n"
          ]
        }
      ],
      "source": [
        "import os\n",
        "\n",
        "os.makedirs('../models', exist_ok=True)\n",
        "\n",
        "# Save models\n",
        "joblib.dump(kmeans, '../models/customer_segmentation_model.pkl')\n",
        "joblib.dump(scaler, '../models/feature_scaler.pkl')\n",
        "\n",
        "# Save cluster assignments\n",
        "rfm[['customer_id','segment_id','segment_name']].to_csv(\n",
        "    '../models/customer_segments.csv', index=False\n",
        ")\n",
        "\n",
        "# Save evaluation metrics\n",
        "metrics = {\n",
        "    'silhouette_score': float(silhouette_score(rfm_scaled, rfm['segment_id'])),\n",
        "    'inertia': kmeans.inertia_,\n",
        "    'segment_counts': rfm['segment_id'].value_counts().to_dict()\n",
        "}\n",
        "with open('../models/evaluation_metrics.json', 'w') as f:\n",
        "    json.dump(metrics, f, indent=2)\n",
        "\n",
        "print(\"Artifacts saved under `models/`.\")\n"
      ]
    }
  ],
  "metadata": {
    "kernelspec": {
      "display_name": "foundryAI_global",
      "language": "python",
      "name": "python3"
    },
    "language_info": {
      "codemirror_mode": {
        "name": "ipython",
        "version": 3
      },
      "file_extension": ".py",
      "mimetype": "text/x-python",
      "name": "python",
      "nbconvert_exporter": "python",
      "pygments_lexer": "ipython3",
      "version": "3.12.9"
    }
  },
  "nbformat": 4,
  "nbformat_minor": 2
}
